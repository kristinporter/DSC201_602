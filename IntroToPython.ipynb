{
 "cells": [
  {
   "cell_type": "markdown",
   "metadata": {},
   "source": [
    "# Introduction to Python and Jupyter Notebooks\n"
   ]
  },
  {
   "cell_type": "markdown",
   "metadata": {},
   "source": [
    "### Good programming practices... \n",
    "\n",
    "Remember, **commenting**, **consistency** and **abstraction** were our 3 good programming practices to follow. \n",
    "\n",
    "Let's look at how to do these in Python... "
   ]
  },
  {
   "cell_type": "code",
   "execution_count": null,
   "metadata": {},
   "outputs": [],
   "source": [
    "# To comment one line in Python, you can use a # \n",
    "# See, each # will comment out a line. \n",
    "\n",
    "''' \n",
    "You can also comment out multiple lines \n",
    "with a set of three apostrophes \n",
    "''' \n",
    "\n",
    "# Notice that any comments appear within VS Code in a different color, \n",
    "# this makes it easier to figure out if something will get executed by \n",
    "# the compiler when it is run. "
   ]
  },
  {
   "cell_type": "code",
   "execution_count": null,
   "metadata": {},
   "outputs": [],
   "source": [
    "# Commenting in Python also can pick up on key terms that will help you read \n",
    "# the comment. \n",
    "\n",
    "# One key term is the TODO marker \n",
    "# In python, the TODO marker will be highlighted a different color. \n",
    "\n",
    "# To get full points for this assignment, make sure you complete all the TODO markers "
   ]
  },
  {
   "cell_type": "code",
   "execution_count": 2,
   "metadata": {},
   "outputs": [
    {
     "name": "stdout",
     "output_type": "stream",
     "text": [
      "apple\n",
      "7\n"
     ]
    }
   ],
   "source": [
    "# For consistency, we want to make sure everything only has \n",
    "# one path forward to run. \n",
    "\n",
    "# Consistency can be upheld by using generic variables and abstracting out into functions \n",
    "# To declare a variable in python, you can use the equal operator. \n",
    "\n",
    "# declares a variable called apple that holds the string apple \n",
    "apple = \"apple\"\n",
    "# declares a integar data type that holds the value 7 \n",
    "math = 3+4 \n",
    "\n",
    "print(apple)\n",
    "print(math)"
   ]
  },
  {
   "cell_type": "code",
   "execution_count": 10,
   "metadata": {},
   "outputs": [
    {
     "name": "stdout",
     "output_type": "stream",
     "text": [
      "I can do math\n",
      "I can too\n"
     ]
    }
   ],
   "source": [
    "# To build functions in python, we have to use the def operator\n",
    "\n",
    "def mathFunction():\n",
    "    print('I can do math')\n",
    "    print('I can too')\n",
    "\n",
    "mathFunction()"
   ]
  },
  {
   "cell_type": "code",
   "execution_count": null,
   "metadata": {},
   "outputs": [],
   "source": [
    "# Functions in python has a bunch of needed components... \n",
    "    # The def operator at the beginning of the function \n",
    "    # The parenthesis next to the function name \n",
    "    # A colon at the end of the function name\n",
    "    # Indented statements to execute within the function \n",
    "\n",
    "# For example, this wont work \n",
    "\n",
    "def brokenFunction: \n",
    "    print('I won\\'t work')\n",
    "\n",
    "def brokenFunction2(): \n",
    "print('I won\\'t work')\n",
    "\n",
    "def brokenFunction3()\n",
    "    print('I won\\'t work')\n",
    "\n",
    "# all of these statements will throw errors \n",
    "# TODO: fix all of these above statements so no error is thrown when read "
   ]
  },
  {
   "cell_type": "code",
   "execution_count": 12,
   "metadata": {},
   "outputs": [
    {
     "name": "stdout",
     "output_type": "stream",
     "text": [
      "Python is dynamically typed so you can pass in strings or integars\n",
      "Just like this\n",
      "9\n"
     ]
    }
   ],
   "source": [
    "# Functions can also have parameters \n",
    "# To add a parameter, place a variable name in the parenthesis, like this \n",
    "\n",
    "def functionWithParameter(a, b): \n",
    "    print(a + b)\n",
    "\n",
    "functionWithParameter('Python is dynamically typed', ' so you can pass in strings or integars')\n",
    "print(\"Just like this\")\n",
    "functionWithParameter(4, 5)"
   ]
  },
  {
   "cell_type": "code",
   "execution_count": 14,
   "metadata": {},
   "outputs": [
    {
     "data": {
      "text/plain": [
       "9"
      ]
     },
     "execution_count": 14,
     "metadata": {},
     "output_type": "execute_result"
    }
   ],
   "source": [
    "# you can also use a return statement to show the value computed in the function\n",
    "\n",
    "def functionWithParameterReturn(a, b): \n",
    "    return a + b\n",
    "\n",
    "functionWithParameterReturn(4, 5)"
   ]
  },
  {
   "cell_type": "code",
   "execution_count": null,
   "metadata": {},
   "outputs": [],
   "source": [
    "# TODO: Create a variable called siblings, set it equal to the number of siblings you have \n",
    "# TODO: Create a variable called cousins, set it equal to the number of cousins you have \n",
    "# TODO: Create a function called family that will take two values and add them together, \n",
    "# have the function return or print out the value of the summed parameters\n",
    "# TODO: Pass in the siblings and cousins variable to the family function"
   ]
  },
  {
   "cell_type": "markdown",
   "metadata": {},
   "source": [
    "### Data Structures \n",
    "\n",
    "Also new in python are a bunch of new names for data types/structures\n",
    "\n",
    "Follow this chart to learn some new naming conventions \n",
    "\n",
    "__Data Types__\n",
    "\n",
    "| In R... | In Python... | \n",
    "|----|-----|\n",
    "| Numeric | If whole number then Integar, If decimal then float | \n",
    "| Character | String | \n",
    "\n",
    "__Data Structure__\n",
    "\n",
    "| In R... | In Python... | \n",
    "|----|-----|\n",
    "| Vector | List, Array | \n",
    "| Factor | Enumeration | \n",
    "| Dataframes | Dataframes | \n",
    "| Matrix | 2D Array (less commonly matrix) | "
   ]
  },
  {
   "cell_type": "code",
   "execution_count": 15,
   "metadata": {},
   "outputs": [],
   "source": [
    "# To build strings, you can use single or double quotes \n",
    "\n",
    "string1 = 'I am a string'\n",
    "string2 = \"I am a string\"\n",
    "string3 = ''' I am a multi \n",
    "lined string \n",
    "It's nice to be able to have it wrap'''\n",
    "\n",
    "# To build integars and floats, you can just type out the value, no need to declare \n",
    "\n",
    "int1 = 9 \n",
    "int2 = 10 \n",
    "float1 = 9.8\n",
    "float2 = 111.1111\n",
    "\n",
    "# Also, note... \n",
    "# int and float are reserved values. So you shouldn't use them as a standalone variable name \n",
    "# they can be used to strictly define the type of a variable you are declaring "
   ]
  },
  {
   "cell_type": "code",
   "execution_count": 16,
   "metadata": {},
   "outputs": [
    {
     "name": "stdout",
     "output_type": "stream",
     "text": [
      "[[1, 2, 3], [4, 5, 6], [7, 8, 9]]\n"
     ]
    }
   ],
   "source": [
    "# To build a list or an array, use brackets \n",
    "array1 = [\"array of strings\", \"array of strings\"]\n",
    "array2 = ['multi type array', 9, 10.11]\n",
    "array3 = [10.2, 30.4, 10.4]\n",
    "\n",
    "# nest the arrays inside each other like this \n",
    "bigArray = [[1, 2, 3], [4, 5, 6], [7, 8, 9]]"
   ]
  },
  {
   "cell_type": "markdown",
   "metadata": {},
   "source": [
    "### Accessing Data Structures "
   ]
  },
  {
   "cell_type": "code",
   "execution_count": 21,
   "metadata": {},
   "outputs": [
    {
     "name": "stdout",
     "output_type": "stream",
     "text": [
      "multi type array\n",
      "9\n",
      "10.11\n",
      "\n",
      "Length is:\n",
      "3\n"
     ]
    }
   ],
   "source": [
    "# Accessing information is similar in Python \n",
    "# Each element has it's own index... except in python indexing starts at 0 \n",
    "\n",
    "print(array2[0])\n",
    "print(array2[1])\n",
    "print(array2[2])\n",
    "\n",
    "# you can also get the length of the array with the length command \n",
    "print(\"\\nLength is:\")\n",
    "print(len(array2))"
   ]
  },
  {
   "cell_type": "code",
   "execution_count": 29,
   "metadata": {},
   "outputs": [
    {
     "name": "stdout",
     "output_type": "stream",
     "text": [
      "[1, 2, 3]\n",
      "1\n",
      "3\n"
     ]
    }
   ],
   "source": [
    "# Accessing 2Ds is the same, just add in more brackets \n",
    "\n",
    "print(bigArray[0])\n",
    "print(bigArray[0][0])\n",
    "print(bigArray[0][2])"
   ]
  },
  {
   "cell_type": "code",
   "execution_count": null,
   "metadata": {},
   "outputs": [],
   "source": [
    "# TODO, print out the 2nd element of the 3rd array in the bigArray defined above "
   ]
  },
  {
   "cell_type": "code",
   "execution_count": null,
   "metadata": {},
   "outputs": [],
   "source": [
    "# TODO, create a 2D array with a bunch of different elements\n",
    "# The array should be a 4x3 array, meaning it has 4 arrays inside of it and each array has 3 elements. "
   ]
  },
  {
   "cell_type": "markdown",
   "metadata": {},
   "source": [
    "### Getting pandas onto our virtual enviornment \n",
    "\n",
    "In order to get csv files into python, we can use a package called pandas. Fun name for a fun package! To import a package into our virutal enviornment we can execute the 'pip install' command into a python cell like this... "
   ]
  },
  {
   "cell_type": "code",
   "execution_count": 33,
   "metadata": {},
   "outputs": [
    {
     "name": "stdout",
     "output_type": "stream",
     "text": [
      "Collecting pandas\n",
      "  Downloading pandas-2.1.1-cp39-cp39-macosx_10_9_x86_64.whl.metadata (18 kB)\n",
      "Collecting numpy>=1.22.4 (from pandas)\n",
      "  Downloading numpy-1.26.1-cp39-cp39-macosx_10_9_x86_64.whl.metadata (61 kB)\n",
      "\u001b[2K     \u001b[90m━━━━━━━━━━━━━━━━━━━━━━━━━━━━━━━━━━━━━━━\u001b[0m \u001b[32m61.2/61.2 kB\u001b[0m \u001b[31m339.1 kB/s\u001b[0m eta \u001b[36m0:00:00\u001b[0ma \u001b[36m0:00:01\u001b[0m\n",
      "\u001b[?25hRequirement already satisfied: python-dateutil>=2.8.2 in ./IntroRPython/lib/python3.9/site-packages (from pandas) (2.8.2)\n",
      "Collecting pytz>=2020.1 (from pandas)\n",
      "  Downloading pytz-2023.3.post1-py2.py3-none-any.whl.metadata (22 kB)\n",
      "Collecting tzdata>=2022.1 (from pandas)\n",
      "  Downloading tzdata-2023.3-py2.py3-none-any.whl (341 kB)\n",
      "\u001b[2K     \u001b[90m━━━━━━━━━━━━━━━━━━━━━━━━━━━━━━━━━━━━━\u001b[0m \u001b[32m341.8/341.8 kB\u001b[0m \u001b[31m964.1 kB/s\u001b[0m eta \u001b[36m0:00:00\u001b[0m00:01\u001b[0m00:01\u001b[0m\n",
      "\u001b[?25hRequirement already satisfied: six>=1.5 in ./IntroRPython/lib/python3.9/site-packages (from python-dateutil>=2.8.2->pandas) (1.16.0)\n",
      "Downloading pandas-2.1.1-cp39-cp39-macosx_10_9_x86_64.whl (11.8 MB)\n",
      "\u001b[2K   \u001b[90m━━━━━━━━━━━━━━━━━━━━━━━━━━━━━━━━━━━━━━━━\u001b[0m \u001b[32m11.8/11.8 MB\u001b[0m \u001b[31m2.6 MB/s\u001b[0m eta \u001b[36m0:00:00\u001b[0m00:01\u001b[0m00:01\u001b[0m\n",
      "\u001b[?25hDownloading numpy-1.26.1-cp39-cp39-macosx_10_9_x86_64.whl (20.6 MB)\n",
      "\u001b[2K   \u001b[90m━━━━━━━━━━━━━━━━━━━━━━━━━━━━━━━━━━━━━━━━\u001b[0m \u001b[32m20.6/20.6 MB\u001b[0m \u001b[31m7.7 MB/s\u001b[0m eta \u001b[36m0:00:00\u001b[0m00:01\u001b[0m00:01\u001b[0m\n",
      "\u001b[?25hDownloading pytz-2023.3.post1-py2.py3-none-any.whl (502 kB)\n",
      "\u001b[2K   \u001b[90m━━━━━━━━━━━━━━━━━━━━━━━━━━━━━━━━━━━━━━━━\u001b[0m \u001b[32m502.5/502.5 kB\u001b[0m \u001b[31m6.8 MB/s\u001b[0m eta \u001b[36m0:00:00\u001b[0m:00:01\u001b[0m00:01\u001b[0m\n",
      "\u001b[?25hInstalling collected packages: pytz, tzdata, numpy, pandas\n",
      "Successfully installed numpy-1.26.1 pandas-2.1.1 pytz-2023.3.post1 tzdata-2023.3\n",
      "Note: you may need to restart the kernel to use updated packages.\n"
     ]
    }
   ],
   "source": [
    "%pip install pandas"
   ]
  },
  {
   "cell_type": "code",
   "execution_count": 34,
   "metadata": {},
   "outputs": [],
   "source": [
    "# Once it is in the virutal enviornment, we have to import it to this notebook \n",
    "\n",
    "import pandas as pd \n",
    "\n",
    "# To use pandas to grab a csv, then you can use the read_csv function \n",
    "\n",
    "df = pd.read_csv('~/Downloads/colleges.csv')"
   ]
  },
  {
   "cell_type": "code",
   "execution_count": 37,
   "metadata": {},
   "outputs": [
    {
     "data": {
      "text/html": [
       "<div>\n",
       "<style scoped>\n",
       "    .dataframe tbody tr th:only-of-type {\n",
       "        vertical-align: middle;\n",
       "    }\n",
       "\n",
       "    .dataframe tbody tr th {\n",
       "        vertical-align: top;\n",
       "    }\n",
       "\n",
       "    .dataframe thead th {\n",
       "        text-align: right;\n",
       "    }\n",
       "</style>\n",
       "<table border=\"1\" class=\"dataframe\">\n",
       "  <thead>\n",
       "    <tr style=\"text-align: right;\">\n",
       "      <th></th>\n",
       "      <th>OPEID</th>\n",
       "      <th>median_debt</th>\n",
       "      <th>default_rate</th>\n",
       "      <th>admit_rate</th>\n",
       "      <th>SAT_avg</th>\n",
       "      <th>enrollment</th>\n",
       "      <th>net_price</th>\n",
       "      <th>avg_cost</th>\n",
       "      <th>net_tuition</th>\n",
       "      <th>ed_spending_per_student</th>\n",
       "      <th>avg_faculty_salary</th>\n",
       "      <th>pct_PELL</th>\n",
       "      <th>pct_fed_loan</th>\n",
       "      <th>grad_rate</th>\n",
       "      <th>pct_firstgen</th>\n",
       "      <th>med_fam_income</th>\n",
       "      <th>med_alum_earnings</th>\n",
       "    </tr>\n",
       "  </thead>\n",
       "  <tbody>\n",
       "    <tr>\n",
       "      <th>count</th>\n",
       "      <td>4.435000e+03</td>\n",
       "      <td>4435.000000</td>\n",
       "      <td>4435.000000</td>\n",
       "      <td>1704.000000</td>\n",
       "      <td>1105.000000</td>\n",
       "      <td>4435.000000</td>\n",
       "      <td>4435.000000</td>\n",
       "      <td>4435.000000</td>\n",
       "      <td>4435.000000</td>\n",
       "      <td>4435.000000</td>\n",
       "      <td>3077.000000</td>\n",
       "      <td>4435.000000</td>\n",
       "      <td>4435.000000</td>\n",
       "      <td>4435.000000</td>\n",
       "      <td>4088.000000</td>\n",
       "      <td>4399.000000</td>\n",
       "      <td>3912.000000</td>\n",
       "    </tr>\n",
       "    <tr>\n",
       "      <th>mean</th>\n",
       "      <td>1.492464e+06</td>\n",
       "      <td>11.195790</td>\n",
       "      <td>9.060090</td>\n",
       "      <td>70.812576</td>\n",
       "      <td>1139.842534</td>\n",
       "      <td>3110.519053</td>\n",
       "      <td>17.371474</td>\n",
       "      <td>27.102880</td>\n",
       "      <td>10.836639</td>\n",
       "      <td>7.760832</td>\n",
       "      <td>7.266518</td>\n",
       "      <td>45.555540</td>\n",
       "      <td>49.069461</td>\n",
       "      <td>54.945651</td>\n",
       "      <td>43.357756</td>\n",
       "      <td>31.791930</td>\n",
       "      <td>40.007157</td>\n",
       "    </tr>\n",
       "    <tr>\n",
       "      <th>std</th>\n",
       "      <td>1.976276e+06</td>\n",
       "      <td>5.319178</td>\n",
       "      <td>6.144554</td>\n",
       "      <td>20.567925</td>\n",
       "      <td>131.630792</td>\n",
       "      <td>6429.445325</td>\n",
       "      <td>8.638514</td>\n",
       "      <td>14.988075</td>\n",
       "      <td>7.506410</td>\n",
       "      <td>6.881391</td>\n",
       "      <td>2.528365</td>\n",
       "      <td>20.309775</td>\n",
       "      <td>24.542281</td>\n",
       "      <td>22.051351</td>\n",
       "      <td>12.931312</td>\n",
       "      <td>20.811117</td>\n",
       "      <td>14.486256</td>\n",
       "    </tr>\n",
       "    <tr>\n",
       "      <th>min</th>\n",
       "      <td>1.002000e+05</td>\n",
       "      <td>1.932000</td>\n",
       "      <td>0.000000</td>\n",
       "      <td>2.440000</td>\n",
       "      <td>760.000000</td>\n",
       "      <td>0.000000</td>\n",
       "      <td>-0.407000</td>\n",
       "      <td>4.760000</td>\n",
       "      <td>0.000000</td>\n",
       "      <td>0.000000</td>\n",
       "      <td>0.897000</td>\n",
       "      <td>0.000000</td>\n",
       "      <td>0.000000</td>\n",
       "      <td>0.000000</td>\n",
       "      <td>8.866995</td>\n",
       "      <td>0.000000</td>\n",
       "      <td>10.939000</td>\n",
       "    </tr>\n",
       "    <tr>\n",
       "      <th>25%</th>\n",
       "      <td>2.822000e+05</td>\n",
       "      <td>6.863000</td>\n",
       "      <td>4.400000</td>\n",
       "      <td>59.787500</td>\n",
       "      <td>1050.000000</td>\n",
       "      <td>171.000000</td>\n",
       "      <td>10.849000</td>\n",
       "      <td>16.452500</td>\n",
       "      <td>5.439500</td>\n",
       "      <td>4.126000</td>\n",
       "      <td>5.610000</td>\n",
       "      <td>29.830000</td>\n",
       "      <td>30.925000</td>\n",
       "      <td>37.310000</td>\n",
       "      <td>35.006281</td>\n",
       "      <td>17.827750</td>\n",
       "      <td>29.720250</td>\n",
       "    </tr>\n",
       "    <tr>\n",
       "      <th>50%</th>\n",
       "      <td>7.669000e+05</td>\n",
       "      <td>9.500000</td>\n",
       "      <td>8.200000</td>\n",
       "      <td>74.680000</td>\n",
       "      <td>1113.000000</td>\n",
       "      <td>868.000000</td>\n",
       "      <td>16.757000</td>\n",
       "      <td>22.945000</td>\n",
       "      <td>9.912000</td>\n",
       "      <td>6.352000</td>\n",
       "      <td>6.958000</td>\n",
       "      <td>42.500000</td>\n",
       "      <td>52.540000</td>\n",
       "      <td>56.400000</td>\n",
       "      <td>45.102178</td>\n",
       "      <td>24.670000</td>\n",
       "      <td>38.056000</td>\n",
       "    </tr>\n",
       "    <tr>\n",
       "      <th>75%</th>\n",
       "      <td>2.362002e+06</td>\n",
       "      <td>15.000000</td>\n",
       "      <td>12.300000</td>\n",
       "      <td>86.115000</td>\n",
       "      <td>1205.000000</td>\n",
       "      <td>2953.000000</td>\n",
       "      <td>22.470500</td>\n",
       "      <td>32.032500</td>\n",
       "      <td>14.218000</td>\n",
       "      <td>9.342000</td>\n",
       "      <td>8.573000</td>\n",
       "      <td>60.380000</td>\n",
       "      <td>67.680000</td>\n",
       "      <td>71.915000</td>\n",
       "      <td>52.599727</td>\n",
       "      <td>39.516500</td>\n",
       "      <td>47.381250</td>\n",
       "    </tr>\n",
       "    <tr>\n",
       "      <th>max</th>\n",
       "      <td>7.209887e+07</td>\n",
       "      <td>33.470000</td>\n",
       "      <td>57.100000</td>\n",
       "      <td>100.000000</td>\n",
       "      <td>1566.000000</td>\n",
       "      <td>109233.000000</td>\n",
       "      <td>112.050000</td>\n",
       "      <td>120.377000</td>\n",
       "      <td>66.442000</td>\n",
       "      <td>139.766000</td>\n",
       "      <td>21.143000</td>\n",
       "      <td>100.000000</td>\n",
       "      <td>100.000000</td>\n",
       "      <td>100.000000</td>\n",
       "      <td>85.906040</td>\n",
       "      <td>179.864000</td>\n",
       "      <td>132.969000</td>\n",
       "    </tr>\n",
       "  </tbody>\n",
       "</table>\n",
       "</div>"
      ],
      "text/plain": [
       "              OPEID  median_debt  default_rate   admit_rate      SAT_avg  \\\n",
       "count  4.435000e+03  4435.000000   4435.000000  1704.000000  1105.000000   \n",
       "mean   1.492464e+06    11.195790      9.060090    70.812576  1139.842534   \n",
       "std    1.976276e+06     5.319178      6.144554    20.567925   131.630792   \n",
       "min    1.002000e+05     1.932000      0.000000     2.440000   760.000000   \n",
       "25%    2.822000e+05     6.863000      4.400000    59.787500  1050.000000   \n",
       "50%    7.669000e+05     9.500000      8.200000    74.680000  1113.000000   \n",
       "75%    2.362002e+06    15.000000     12.300000    86.115000  1205.000000   \n",
       "max    7.209887e+07    33.470000     57.100000   100.000000  1566.000000   \n",
       "\n",
       "          enrollment    net_price     avg_cost  net_tuition  \\\n",
       "count    4435.000000  4435.000000  4435.000000  4435.000000   \n",
       "mean     3110.519053    17.371474    27.102880    10.836639   \n",
       "std      6429.445325     8.638514    14.988075     7.506410   \n",
       "min         0.000000    -0.407000     4.760000     0.000000   \n",
       "25%       171.000000    10.849000    16.452500     5.439500   \n",
       "50%       868.000000    16.757000    22.945000     9.912000   \n",
       "75%      2953.000000    22.470500    32.032500    14.218000   \n",
       "max    109233.000000   112.050000   120.377000    66.442000   \n",
       "\n",
       "       ed_spending_per_student  avg_faculty_salary     pct_PELL  pct_fed_loan  \\\n",
       "count              4435.000000         3077.000000  4435.000000   4435.000000   \n",
       "mean                  7.760832            7.266518    45.555540     49.069461   \n",
       "std                   6.881391            2.528365    20.309775     24.542281   \n",
       "min                   0.000000            0.897000     0.000000      0.000000   \n",
       "25%                   4.126000            5.610000    29.830000     30.925000   \n",
       "50%                   6.352000            6.958000    42.500000     52.540000   \n",
       "75%                   9.342000            8.573000    60.380000     67.680000   \n",
       "max                 139.766000           21.143000   100.000000    100.000000   \n",
       "\n",
       "         grad_rate  pct_firstgen  med_fam_income  med_alum_earnings  \n",
       "count  4435.000000   4088.000000     4399.000000        3912.000000  \n",
       "mean     54.945651     43.357756       31.791930          40.007157  \n",
       "std      22.051351     12.931312       20.811117          14.486256  \n",
       "min       0.000000      8.866995        0.000000          10.939000  \n",
       "25%      37.310000     35.006281       17.827750          29.720250  \n",
       "50%      56.400000     45.102178       24.670000          38.056000  \n",
       "75%      71.915000     52.599727       39.516500          47.381250  \n",
       "max     100.000000     85.906040      179.864000         132.969000  "
      ]
     },
     "execution_count": 37,
     "metadata": {},
     "output_type": "execute_result"
    }
   ],
   "source": [
    "# TO get overall distributions of variables in your dataframe \n",
    "df.describe()"
   ]
  },
  {
   "cell_type": "code",
   "execution_count": 38,
   "metadata": {},
   "outputs": [
    {
     "data": {
      "text/plain": [
       "Index(['OPEID', 'name', 'city', 'state', 'region', 'median_debt',\n",
       "       'default_rate', 'highest_degree', 'ownership', 'locale', 'hbcu',\n",
       "       'admit_rate', 'SAT_avg', 'online_only', 'enrollment', 'net_price',\n",
       "       'avg_cost', 'net_tuition', 'ed_spending_per_student',\n",
       "       'avg_faculty_salary', 'pct_PELL', 'pct_fed_loan', 'grad_rate',\n",
       "       'pct_firstgen', 'med_fam_income', 'med_alum_earnings'],\n",
       "      dtype='object')"
      ]
     },
     "execution_count": 38,
     "metadata": {},
     "output_type": "execute_result"
    }
   ],
   "source": [
    "# To get the column names of the dataframe \n",
    "\n",
    "df.columns"
   ]
  },
  {
   "cell_type": "code",
   "execution_count": 39,
   "metadata": {},
   "outputs": [
    {
     "data": {
      "text/plain": [
       "(4435, 26)"
      ]
     },
     "execution_count": 39,
     "metadata": {},
     "output_type": "execute_result"
    }
   ],
   "source": [
    "# To get the dimension of a dataframe \n",
    "\n",
    "df.shape"
   ]
  },
  {
   "cell_type": "code",
   "execution_count": 43,
   "metadata": {},
   "outputs": [
    {
     "data": {
      "text/plain": [
       "0        959.0\n",
       "1       1245.0\n",
       "2          NaN\n",
       "3       1300.0\n",
       "4        938.0\n",
       "         ...  \n",
       "4430       NaN\n",
       "4431       NaN\n",
       "4432       NaN\n",
       "4433       NaN\n",
       "4434       NaN\n",
       "Name: SAT_avg, Length: 4435, dtype: float64"
      ]
     },
     "execution_count": 43,
     "metadata": {},
     "output_type": "execute_result"
    }
   ],
   "source": [
    "# To get a particular column of dataframe \n",
    "\n",
    "df['SAT_avg']"
   ]
  },
  {
   "cell_type": "code",
   "execution_count": 47,
   "metadata": {},
   "outputs": [
    {
     "name": "stdout",
     "output_type": "stream",
     "text": [
      "760.0\n",
      "1566.0\n"
     ]
    }
   ],
   "source": [
    "# Then you can use the same math functions on that column like in R \n",
    "\n",
    "print(min(df['SAT_avg']))\n",
    "print(max(df['SAT_avg']))"
   ]
  },
  {
   "cell_type": "markdown",
   "metadata": {},
   "source": [
    "## Homework... \n",
    "\n",
    "For your homework, the goal is to apply your knowledge to your dataset you picked out for your project. "
   ]
  },
  {
   "cell_type": "code",
   "execution_count": null,
   "metadata": {},
   "outputs": [],
   "source": [
    "# TODO Read your project dataset into a dataframe called df"
   ]
  },
  {
   "cell_type": "code",
   "execution_count": null,
   "metadata": {},
   "outputs": [],
   "source": [
    "# TODO Find out the dimensions of the project dataset "
   ]
  },
  {
   "cell_type": "code",
   "execution_count": null,
   "metadata": {},
   "outputs": [],
   "source": [
    "# TODO Display only one column (any column) of the project dataset "
   ]
  },
  {
   "cell_type": "code",
   "execution_count": null,
   "metadata": {},
   "outputs": [],
   "source": [
    "# TODO Choose one of the numerical columns of your project dataset... assign this column to a variable called colNumbers\n",
    "# TODO Find the min, max, mean, and count of this column "
   ]
  },
  {
   "cell_type": "code",
   "execution_count": 49,
   "metadata": {},
   "outputs": [],
   "source": [
    "# TODO Look up the function value_counts... on one of your categorical variables,\n",
    "#  use this function to display how many rows fall into this category \n"
   ]
  },
  {
   "cell_type": "code",
   "execution_count": null,
   "metadata": {},
   "outputs": [],
   "source": [
    "# TODO Use the describe function on your dataset "
   ]
  },
  {
   "cell_type": "code",
   "execution_count": null,
   "metadata": {},
   "outputs": [],
   "source": [
    "# TODO In your first project brainstorming assignment, you asked 3 questions you would ask of your dataset. \n",
    "# Place one of these questions in a comment within this notebook\n",
    "\n",
    "# In EITHER code or writing, please show/describe how you could answer this question with this data. \n",
    "# For example, you could show the mean/max/min of two different columns in your dataset and then tell me how the comparison \n",
    "# between these two would help answer your question. This is super preliminary, so nothing complicated needs to be done here. \n",
    "# The goal is to get you thinking about how you need to interact with your dataset to start answering your questions. "
   ]
  },
  {
   "cell_type": "markdown",
   "metadata": {},
   "source": [
    "### To submit... \n",
    "\n",
    "Follow the proper naming convention mentioned on moodle, execute all cells within this notebook and then save the .ipynb file. Submit the .ipynb. "
   ]
  }
 ],
 "metadata": {
  "kernelspec": {
   "display_name": "IntroRPython",
   "language": "python",
   "name": "python3"
  },
  "language_info": {
   "codemirror_mode": {
    "name": "ipython",
    "version": 3
   },
   "file_extension": ".py",
   "mimetype": "text/x-python",
   "name": "python",
   "nbconvert_exporter": "python",
   "pygments_lexer": "ipython3",
   "version": "3.12.1"
  },
  "orig_nbformat": 4
 },
 "nbformat": 4,
 "nbformat_minor": 2
}
