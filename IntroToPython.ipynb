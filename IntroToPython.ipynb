{
 "cells": [
  {
   "cell_type": "markdown",
   "metadata": {},
   "source": [
    "# Introduction to Python and Jupyter Notebooks\n"
   ]
  },
  {
   "cell_type": "markdown",
   "metadata": {},
   "source": [
    "### Commenting in Python \n",
    "\n",
    "Remember that \"commenting\" is an important practice for making your code more readable by:\n",
    "- documenting what our code is doing - so that others can follow and so that we can easily remember\n",
    "- keeping code organized\n",
    "- proving notes about the status\n",
    "- leaving comments for collaborators or reviewers\n",
    "\n",
    "Let's look at how to comment in Python... "
   ]
  },
  {
   "cell_type": "code",
   "execution_count": 18,
   "metadata": {
    "tags": [
     "showcomments"
    ]
   },
   "outputs": [
    {
     "data": {
      "text/plain": [
       "' \\nYou can also comment out multiple lines \\nwith a set of three apostrophes \\n'"
      ]
     },
     "execution_count": 18,
     "metadata": {},
     "output_type": "execute_result"
    }
   ],
   "source": [
    "# To comment one line in Python, you can use a #, just like in R\n",
    "\n",
    "''' \n",
    "You can also comment out multiple lines \n",
    "with a set of three apostrophes \n",
    "''' \n",
    "\n",
    "# Notice that any comments appear within VS Code in a different color, \n",
    "# this makes it easier to figure out if something will get executed by \n",
    "# the compiler when it is run. "
   ]
  },
  {
   "cell_type": "markdown",
   "metadata": {},
   "source": [
    "#### Markers\n",
    "In Python, comments are used to explain code and make it more readable. \"Markers\" in the context of comments usually refer to specific annotations or conventions within comments that are used to highlight certain aspects or functionalities of the code. These markers can be simple text labels or more formalized tags recognized by certain tools or IDEs. For example, you might check out extension \"To Do Tree\" to recognzie markers and highlight them. \n",
    "\n",
    "Common Types of Comment Markers and Examples: "
   ]
  },
  {
   "cell_type": "code",
   "execution_count": null,
   "metadata": {
    "tags": [
     "showmarkers"
    ]
   },
   "outputs": [],
   "source": [
    "# TODO: Indicates points in the code where work needs to be done. This is a conventional marker used by many developers and often recognized by IDEs to create a list of tasks.\n",
    "# For example:\n",
    "# TODO: Implement error handling\n",
    "\n",
    "# FIXME: Highlights a problem that needs to be corrected.\n",
    "# For example:\n",
    "# FIXME: This section often causes a divide by zero error\n",
    "\n",
    "# NOTE or INFO: Used to give additional information about the code, which is not immediately apparent.\n",
    "# For example:\n",
    "# NOTE: This function is deprecated in version 2.0\n",
    "\n",
    "# HACK: Marks non-obvious or non-intuitive solutions to problems. Useful to indicate potential technical debt.\n",
    "# For example:\n",
    "# HACK: Temporary fix until the library updates\n",
    "\n"
   ]
  },
  {
   "cell_type": "markdown",
   "metadata": {},
   "source": [
    "#### Best Practices for Using Comment Markers\n",
    "\n",
    "- Consistency: Be consistent in how you use markers. If you start using TODO for tasks, stick with it throughout the project.\n",
    "- Clarity: Make your comments clear and concise. The marker should be followed by a brief, but informative description.\n",
    "- Context: Provide enough context in the comment so that someone else (or you in the future) can understand the issue or rationale without needing to read large sections of code.\n",
    "- Prioritization: If possible, indicate the priority or severity of the issue next to the marker.\n",
    "- Integration with Tools: Some IDEs and code quality tools can detect these markers and provide a summary or reminders about them. Leveraging such features can enhance productivity.\n",
    "- Avoid Overuse: While markers can be very useful, overusing them can make your code cluttered and harder to read. Use them judiciously and only where they add value.\n"
   ]
  },
  {
   "cell_type": "markdown",
   "metadata": {},
   "source": [
    "### Data Types and Data Structures in Python\n",
    "\n",
    "The data types and structures are very similar but some have different terminology...\n",
    "\n",
    "#### Data Types\n",
    "\n",
    "| In R... | In Python... | \n",
    "|----|-----|\n",
    "| Numeric | If whole number then \"integar.\" If decimal then \"float.\" | \n",
    "| Character | String | \n",
    "\n"
   ]
  },
  {
   "cell_type": "code",
   "execution_count": 2,
   "metadata": {},
   "outputs": [],
   "source": [
    "# To build integars and floats, you can just type out the value, no need to declare \n",
    "# Note we use = instead of <-\n",
    "# Also note, in Python, we cannot use \".\" in the object name as we can in R\n",
    "\n",
    "my_int1 = 9 \n",
    "my_int2 = 10 \n",
    "my_float1 = 9.8\n",
    "my_float2 = 111.1111\n",
    "\n",
    "# To build strings, you can use single or double quotes \n",
    "\n",
    "my_string1 = 'I am a string'\n",
    "my_string2 = \"I am a string\"\n",
    "my_string3 = ''' I am a multi \n",
    "lined string \n",
    "It's nice to be able to have it wrap'''\n"
   ]
  },
  {
   "cell_type": "markdown",
   "metadata": {},
   "source": [
    "#### Data Structures\n",
    "\n",
    "| In R... | In Python... | \n",
    "|----|-----|\n",
    "| Vector | List, Array | \n",
    "| Factor | Enumeration | \n",
    "| Dataframes | Dataframes | \n",
    "| Matrix | 2D Array (less commonly matrix) | "
   ]
  },
  {
   "cell_type": "code",
   "execution_count": 4,
   "metadata": {},
   "outputs": [
    {
     "name": "stdout",
     "output_type": "stream",
     "text": [
      "[[1, 2, 3], [4, 5, 6], [7, 8, 9]]\n"
     ]
    }
   ],
   "source": [
    "# To build a list or an array, use square brackets \n",
    "# Compare this to c() in R\n",
    "array1 = [\"array of strings\", \"array of strings\"]\n",
    "array2 = ['multi type array', 9, 10.11]\n",
    "array3 = [10.2, 30.4, 10.4]\n",
    "\n",
    "# You can nest the arrays inside each other like this \n",
    "bigArray = [[1, 2, 3], [4, 5, 6], [7, 8, 9]]\n"
   ]
  },
  {
   "cell_type": "markdown",
   "metadata": {},
   "source": [
    "### Accessing Data Structures "
   ]
  },
  {
   "cell_type": "code",
   "execution_count": 8,
   "metadata": {},
   "outputs": [
    {
     "name": "stdout",
     "output_type": "stream",
     "text": [
      "['multi type array', 9, 10.11]\n",
      "multi type array\n",
      "9\n",
      "10.11\n",
      "\n",
      "Length is:\n",
      "3\n",
      "[1, 2, 3]\n",
      "1\n",
      "3\n"
     ]
    }
   ],
   "source": [
    "# Accessing information is similar in Python \n",
    "# Each element has it's own index... except in python indexing starts at 0 \n",
    "\n",
    "print(array2)\n",
    "print(array2[0])\n",
    "print(array2[1])\n",
    "print(array2[2])\n",
    "\n",
    "# you can also get the length of the array with the length command \n",
    "print(\"\\nLength is:\")\n",
    "print(len(array2))\n",
    "\n",
    "# Accessing 2Ds is the same, just add in more brackets \n",
    "print(bigArray[0])\n",
    "print(bigArray[0][0])\n",
    "print(bigArray[0][2])"
   ]
  },
  {
   "cell_type": "markdown",
   "metadata": {},
   "source": [
    "## Working with Data Frames in Python\n",
    "\n",
    "### Installing `pandas`\n",
    "\n",
    "To import a package into our virutal enviornment we can execute the 'pip install' command into a python cell like this... "
   ]
  },
  {
   "cell_type": "code",
   "execution_count": 28,
   "metadata": {},
   "outputs": [
    {
     "name": "stdout",
     "output_type": "stream",
     "text": [
      "Requirement already satisfied: pandas in ./.venv/lib/python3.12/site-packages (2.2.0)\n",
      "Requirement already satisfied: numpy<2,>=1.26.0 in ./.venv/lib/python3.12/site-packages (from pandas) (1.26.3)\n",
      "Requirement already satisfied: python-dateutil>=2.8.2 in ./.venv/lib/python3.12/site-packages (from pandas) (2.8.2)\n",
      "Requirement already satisfied: pytz>=2020.1 in ./.venv/lib/python3.12/site-packages (from pandas) (2024.1)\n",
      "Requirement already satisfied: tzdata>=2022.7 in ./.venv/lib/python3.12/site-packages (from pandas) (2023.4)\n",
      "Requirement already satisfied: six>=1.5 in ./.venv/lib/python3.12/site-packages (from python-dateutil>=2.8.2->pandas) (1.16.0)\n",
      "Note: you may need to restart the kernel to use updated packages.\n"
     ]
    }
   ],
   "source": [
    "%pip install pandas"
   ]
  },
  {
   "cell_type": "markdown",
   "metadata": {},
   "source": [
    "### Some notes about packages in Python\n",
    "\n",
    "#### Installation\n",
    "When you run pip in the terminal, it affects the Python environment that is currently active. If you're using a virtual environment as we are, pip will install packages into that environment. If no virtual environment is active, it will install packages into your global Python environment.\n",
    "\n",
    "%pip is a special command used in Jupyter notebooks. You use it within a Jupyter notebook cell to ensure that the package is installed in the same Python environment the notebook is currently using. This is particularly useful because sometimes the environment a Jupyter notebook runs in isn't the same as your default Python environment, especially if you're using virtual environments."
   ]
  },
  {
   "cell_type": "code",
   "execution_count": 10,
   "metadata": {},
   "outputs": [
    {
     "name": "stderr",
     "output_type": "stream",
     "text": [
      "/var/folders/sp/6y_6pk4x2lscbcf2_4ybm7wr0000gn/T/ipykernel_7991/3331453663.py:3: DeprecationWarning: \n",
      "Pyarrow will become a required dependency of pandas in the next major release of pandas (pandas 3.0),\n",
      "(to allow more performant data types, such as the Arrow string type, and better interoperability with other libraries)\n",
      "but was not found to be installed on your system.\n",
      "If this would cause problems for you,\n",
      "please provide us feedback at https://github.com/pandas-dev/pandas/issues/54466\n",
      "        \n",
      "  import pandas as pd\n"
     ]
    }
   ],
   "source": [
    "# Once it is in the virutal enviornment, we have to import it to this notebook \n",
    "\n",
    "import pandas as pd \n",
    "\n",
    "# To use pandas to grab a csv, then you can use the read_csv function \n",
    "\n",
    "# df = pd.read_csv('~/Downloads/colleges.csv')"
   ]
  },
  {
   "cell_type": "markdown",
   "metadata": {},
   "source": [
    "#### Finding documentation\n",
    "\n",
    "- **Online Documentation:** The most comprehensive source is the official Pandas documentation. It includes a detailed user guide, API reference, and examples.\n",
    "\n",
    "- **Using help() Function:**\n",
    "\n",
    "  - For example, for general Pandas documentation: help(pd)\n",
    "  - For documentation of a specific function (e.g., read_csv): help(pd.read_csv)\n",
    "\n",
    "- **Accessing Docstrings:**\n",
    "\n",
    "  - In an interactive Python session (like a Jupyter notebook), you can use:\n",
    "pd.read_csv? to view the docstring of read_csv.\n",
    "pd? to view the docstring for Pandas.\n",
    "IDE Features: If you're using an IDE, hovering over a function name often shows a tooltip with documentation. Also, pressing Shift + Tab in Jupyter notebooks shows the docstring for the function.\n"
   ]
  },
  {
   "cell_type": "code",
   "execution_count": null,
   "metadata": {},
   "outputs": [],
   "source": [
    "help(pd)"
   ]
  },
  {
   "cell_type": "markdown",
   "metadata": {},
   "source": [
    "For specific functions: "
   ]
  },
  {
   "cell_type": "code",
   "execution_count": null,
   "metadata": {},
   "outputs": [],
   "source": [
    "# help(pd.read_csv)\n",
    "\n",
    "# This is a standard Python function that invokes the built-in help system.\n",
    "# When you use help(pd.read_csv), it displays the documentation for the read_csv function in a more detailed, text-based format.\n",
    "# This command is versatile and can be used in any Python environment, including a standard Python shell, scripts, and Jupyter notebooks.\n",
    "# The output is typically displayed in the same area where the command was executed.```\n",
    "\n",
    "# pd.read_csv?\n",
    "\n",
    "# This syntax is specific to Jupyter notebooks. \n",
    "# When you use pd.read_csv? in a Jupyter notebook, it displays the documentation in a separate pane or window\n",
    "# at the bottom of the notebook interface. \n",
    "# This pane can be resized, scrolled, or closed.\n",
    "# The documentation displayed is generally more concise and is formatted for quick readability,\n",
    "# focusing on the most essential aspects of the function.\n",
    "# This method is more interactive and user-friendly, especially in a Jupyter notebook environment,\n",
    "# but it is not available in standard Python shells or scripts.```\n"
   ]
  },
  {
   "cell_type": "code",
   "execution_count": 30,
   "metadata": {},
   "outputs": [],
   "source": [
    "# TO get overall distributions of variables in your dataframe \n",
    "# df.describe()"
   ]
  },
  {
   "cell_type": "code",
   "execution_count": 31,
   "metadata": {},
   "outputs": [],
   "source": [
    "# To get the column names of the dataframe \n",
    "\n",
    "# df.columns"
   ]
  },
  {
   "cell_type": "code",
   "execution_count": 32,
   "metadata": {},
   "outputs": [
    {
     "ename": "NameError",
     "evalue": "name 'df' is not defined",
     "output_type": "error",
     "traceback": [
      "\u001b[0;31m---------------------------------------------------------------------------\u001b[0m",
      "\u001b[0;31mNameError\u001b[0m                                 Traceback (most recent call last)",
      "Cell \u001b[0;32mIn[32], line 3\u001b[0m\n\u001b[1;32m      1\u001b[0m \u001b[38;5;66;03m# To get the dimension of a dataframe \u001b[39;00m\n\u001b[0;32m----> 3\u001b[0m \u001b[43mdf\u001b[49m\u001b[38;5;241m.\u001b[39mshape\n",
      "\u001b[0;31mNameError\u001b[0m: name 'df' is not defined"
     ]
    }
   ],
   "source": [
    "# To get the dimension of a dataframe \n",
    "\n",
    "df.shape"
   ]
  },
  {
   "cell_type": "code",
   "execution_count": null,
   "metadata": {},
   "outputs": [
    {
     "data": {
      "text/plain": [
       "0        959.0\n",
       "1       1245.0\n",
       "2          NaN\n",
       "3       1300.0\n",
       "4        938.0\n",
       "         ...  \n",
       "4430       NaN\n",
       "4431       NaN\n",
       "4432       NaN\n",
       "4433       NaN\n",
       "4434       NaN\n",
       "Name: SAT_avg, Length: 4435, dtype: float64"
      ]
     },
     "execution_count": 43,
     "metadata": {},
     "output_type": "execute_result"
    }
   ],
   "source": [
    "# To get a particular column of dataframe \n",
    "\n",
    "# df['SAT_avg']"
   ]
  },
  {
   "cell_type": "code",
   "execution_count": null,
   "metadata": {},
   "outputs": [
    {
     "name": "stdout",
     "output_type": "stream",
     "text": [
      "760.0\n",
      "1566.0\n"
     ]
    }
   ],
   "source": [
    "# Then you can use the same math functions on that column like in R \n",
    "\n",
    "print(min(df['SAT_avg']))\n",
    "print(max(df['SAT_avg']))"
   ]
  },
  {
   "cell_type": "markdown",
   "metadata": {},
   "source": [
    "## Homework... \n",
    "\n",
    "For your homework, the goal is to apply your knowledge to your dataset you picked out for your project. "
   ]
  },
  {
   "cell_type": "code",
   "execution_count": null,
   "metadata": {},
   "outputs": [],
   "source": [
    "# TODO Read your project dataset into a dataframe called df"
   ]
  },
  {
   "cell_type": "code",
   "execution_count": null,
   "metadata": {},
   "outputs": [],
   "source": [
    "# TODO Find out the dimensions of the project dataset "
   ]
  },
  {
   "cell_type": "code",
   "execution_count": null,
   "metadata": {},
   "outputs": [],
   "source": [
    "# TODO Display only one column (any column) of the project dataset "
   ]
  },
  {
   "cell_type": "code",
   "execution_count": null,
   "metadata": {},
   "outputs": [],
   "source": [
    "# TODO Choose one of the numerical columns of your project dataset... assign this column to a variable called colNumbers\n",
    "# TODO Find the min, max, mean, and count of this column "
   ]
  },
  {
   "cell_type": "code",
   "execution_count": null,
   "metadata": {},
   "outputs": [],
   "source": [
    "# TODO Look up the function value_counts... on one of your categorical variables,\n",
    "#  use this function to display how many rows fall into this category \n"
   ]
  },
  {
   "cell_type": "code",
   "execution_count": null,
   "metadata": {},
   "outputs": [],
   "source": [
    "# TODO Use the describe function on your dataset "
   ]
  },
  {
   "cell_type": "code",
   "execution_count": null,
   "metadata": {},
   "outputs": [],
   "source": [
    "# TODO In your first project brainstorming assignment, you asked 3 questions you would ask of your dataset. \n",
    "# Place one of these questions in a comment within this notebook\n",
    "\n",
    "# In EITHER code or writing, please show/describe how you could answer this question with this data. \n",
    "# For example, you could show the mean/max/min of two different columns in your dataset and then tell me how the comparison \n",
    "# between these two would help answer your question. This is super preliminary, so nothing complicated needs to be done here. \n",
    "# The goal is to get you thinking about how you need to interact with your dataset to start answering your questions. "
   ]
  },
  {
   "cell_type": "markdown",
   "metadata": {},
   "source": [
    "### To submit... \n",
    "\n",
    "Follow the proper naming convention mentioned on moodle, execute all cells within this notebook and then save the .ipynb file. Submit the .ipynb. "
   ]
  }
 ],
 "metadata": {
  "kernelspec": {
   "display_name": "IntroRPython",
   "language": "python",
   "name": "python3"
  },
  "language_info": {
   "codemirror_mode": {
    "name": "ipython",
    "version": 3
   },
   "file_extension": ".py",
   "mimetype": "text/x-python",
   "name": "python",
   "nbconvert_exporter": "python",
   "pygments_lexer": "ipython3",
   "version": "3.12.1"
  },
  "orig_nbformat": 4
 },
 "nbformat": 4,
 "nbformat_minor": 2
}
