{
 "cells": [
  {
   "cell_type": "markdown",
   "metadata": {},
   "source": [
    "# Introduction to Python and Jupyter Notebooks\n"
   ]
  },
  {
   "cell_type": "markdown",
   "metadata": {},
   "source": [
    "### Commenting in Python \n",
    "\n",
    "Remember that \"commenting\" is an important practice for making your code more readable by:\n",
    "- documenting what our code is doing - so that others can follow and so that we can easily remember\n",
    "- keeping code organized\n",
    "- proving notes about the status\n",
    "- leaving comments for collaborators or reviewers\n",
    "\n",
    "Let's look at how to comment in Python... "
   ]
  },
  {
   "cell_type": "code",
   "execution_count": 18,
   "metadata": {
    "tags": [
     "showcomments"
    ]
   },
   "outputs": [
    {
     "data": {
      "text/plain": [
       "' \\nYou can also comment out multiple lines \\nwith a set of three apostrophes \\n'"
      ]
     },
     "execution_count": 18,
     "metadata": {},
     "output_type": "execute_result"
    }
   ],
   "source": [
    "# To comment one line in Python, you can use a #, just like in R\n",
    "\n",
    "''' \n",
    "You can also comment out multiple lines \n",
    "with a set of three apostrophes \n",
    "''' \n",
    "\n",
    "# Notice that any comments appear within VS Code in a different color, \n",
    "# this makes it easier to figure out if something will get executed by \n",
    "# the compiler when it is run. "
   ]
  },
  {
   "cell_type": "markdown",
   "metadata": {},
   "source": [
    "#### Markers\n",
    "In Python, comments are used to explain code and make it more readable. \"Markers\" in the context of comments usually refer to specific annotations or conventions within comments that are used to highlight certain aspects or functionalities of the code. These markers can be simple text labels or more formalized tags recognized by certain tools or IDEs. For example, you might check out extension \"To Do Tree\" to recognzie markers and highlight them. \n",
    "\n",
    "Common Types of Comment Markers and Examples: "
   ]
  },
  {
   "cell_type": "code",
   "execution_count": null,
   "metadata": {
    "tags": [
     "showmarkers"
    ]
   },
   "outputs": [],
   "source": [
    "# TODO: Indicates points in the code where work needs to be done. This is a conventional marker used by many developers and often recognized by IDEs to create a list of tasks.\n",
    "# For example:\n",
    "# TODO: Implement error handling\n",
    "\n",
    "# FIXME: Highlights a problem that needs to be corrected.\n",
    "# For example:\n",
    "# FIXME: This section often causes a divide by zero error\n",
    "\n",
    "# NOTE or INFO: Used to give additional information about the code, which is not immediately apparent.\n",
    "# For example:\n",
    "# NOTE: This function is deprecated in version 2.0\n",
    "\n",
    "# HACK: Marks non-obvious or non-intuitive solutions to problems. Useful to indicate potential technical debt.\n",
    "# For example:\n",
    "# HACK: Temporary fix until the library updates\n",
    "\n"
   ]
  },
  {
   "cell_type": "markdown",
   "metadata": {},
   "source": [
    "#### Best Practices for Using Comment Markers\n",
    "\n",
    "- Consistency: Be consistent in how you use markers. If you start using TODO for tasks, stick with it throughout the project.\n",
    "- Clarity: Make your comments clear and concise. The marker should be followed by a brief, but informative description.\n",
    "- Context: Provide enough context in the comment so that someone else (or you in the future) can understand the issue or rationale without needing to read large sections of code.\n",
    "- Prioritization: If possible, indicate the priority or severity of the issue next to the marker.\n",
    "- Integration with Tools: Some IDEs and code quality tools can detect these markers and provide a summary or reminders about them. Leveraging such features can enhance productivity.\n",
    "- Avoid Overuse: While markers can be very useful, overusing them can make your code cluttered and harder to read. Use them judiciously and only where they add value.\n"
   ]
  },
  {
   "cell_type": "markdown",
   "metadata": {},
   "source": [
    "### Data Types and Data Structures in Python\n",
    "\n",
    "The data types and structures are very similar but some have different terminology...\n",
    "\n",
    "#### Data Types\n",
    "\n",
    "| In R... | In Python... | \n",
    "|----|-----|\n",
    "| Numeric | If whole number then \"integar.\" If decimal then \"float.\" | \n",
    "| Character | String | \n",
    "\n"
   ]
  },
  {
   "cell_type": "code",
   "execution_count": 2,
   "metadata": {},
   "outputs": [],
   "source": [
    "# To build integars and floats, you can just type out the value, no need to declare \n",
    "# Note we use = instead of <-\n",
    "# Also note, in Python, we cannot use \".\" in the object name as we can in R\n",
    "\n",
    "my_int1 = 9 \n",
    "my_int2 = 10 \n",
    "my_float1 = 9.8\n",
    "my_float2 = 111.1111\n",
    "\n",
    "# To build strings, you can use single or double quotes \n",
    "\n",
    "my_string1 = 'I am a string'\n",
    "my_string2 = \"I am a string\"\n",
    "my_string3 = ''' I am a multi \n",
    "lined string \n",
    "It's nice to be able to have it wrap'''\n"
   ]
  },
  {
   "cell_type": "markdown",
   "metadata": {},
   "source": [
    "#### Data Structures\n",
    "\n",
    "| In R... | In Python... | \n",
    "|----|-----|\n",
    "| Vector | List, Array | \n",
    "| Factor | Enumeration | \n",
    "| Dataframes | Dataframes | \n",
    "| Matrix | 2D Array (less commonly matrix) | "
   ]
  },
  {
   "cell_type": "code",
   "execution_count": 4,
   "metadata": {},
   "outputs": [
    {
     "name": "stdout",
     "output_type": "stream",
     "text": [
      "[[1, 2, 3], [4, 5, 6], [7, 8, 9]]\n"
     ]
    }
   ],
   "source": [
    "# To build a list or an array, use square brackets \n",
    "# Compare this to c() in R\n",
    "array1 = [\"array of strings\", \"array of strings\"]\n",
    "array2 = ['multi type array', 9, 10.11]\n",
    "array3 = [10.2, 30.4, 10.4]\n",
    "\n",
    "# You can nest the arrays inside each other like this \n",
    "bigArray = [[1, 2, 3], [4, 5, 6], [7, 8, 9]]\n"
   ]
  },
  {
   "cell_type": "markdown",
   "metadata": {},
   "source": [
    "### Accessing Data Structures "
   ]
  },
  {
   "cell_type": "code",
   "execution_count": 27,
   "metadata": {},
   "outputs": [
    {
     "name": "stdout",
     "output_type": "stream",
     "text": [
      "['multi type array', 9, 10.11]\n",
      "multi type array\n",
      "9\n",
      "10.11\n",
      "\n",
      "Length is:\n",
      "3\n",
      "[1, 2, 3]\n",
      "1\n",
      "3\n"
     ]
    }
   ],
   "source": [
    "# Accessing information is similar in Python \n",
    "# Each element has it's own index... except in python indexing starts at 0 \n",
    "\n",
    "print(array2)\n",
    "print(array2[0])\n",
    "print(array2[1])\n",
    "print(array2[2])\n",
    "\n",
    "# you can also get the length of the array with the length command \n",
    "print(\"\\nLength is:\")\n",
    "print(len(array2))\n",
    "\n",
    "# Accessing 2Ds is the same, just add in more brackets \n",
    "print(bigArray[0])\n",
    "print(bigArray[0][0])\n",
    "print(bigArray[0][2])"
   ]
  },
  {
   "cell_type": "markdown",
   "metadata": {},
   "source": [
    "## Working with Data Frames in Python\n",
    "\n",
    "### Installing `pandas`\n",
    "\n",
    "To import a package into our virutal enviornment we can execute the 'pip install' command into a python cell like this... "
   ]
  },
  {
   "cell_type": "code",
   "execution_count": 28,
   "metadata": {},
   "outputs": [
    {
     "name": "stdout",
     "output_type": "stream",
     "text": [
      "Requirement already satisfied: pandas in ./.venv/lib/python3.12/site-packages (2.2.0)\n",
      "Requirement already satisfied: numpy<2,>=1.26.0 in ./.venv/lib/python3.12/site-packages (from pandas) (1.26.3)\n",
      "Requirement already satisfied: python-dateutil>=2.8.2 in ./.venv/lib/python3.12/site-packages (from pandas) (2.8.2)\n",
      "Requirement already satisfied: pytz>=2020.1 in ./.venv/lib/python3.12/site-packages (from pandas) (2024.1)\n",
      "Requirement already satisfied: tzdata>=2022.7 in ./.venv/lib/python3.12/site-packages (from pandas) (2023.4)\n",
      "Requirement already satisfied: six>=1.5 in ./.venv/lib/python3.12/site-packages (from python-dateutil>=2.8.2->pandas) (1.16.0)\n",
      "Note: you may need to restart the kernel to use updated packages.\n"
     ]
    }
   ],
   "source": [
    "%pip install pandas"
   ]
  },
  {
   "cell_type": "markdown",
   "metadata": {},
   "source": [
    "### Some notes about packages in Python\n",
    "\n",
    "#### Installation\n",
    "When you run pip in the terminal, it affects the Python environment that is currently active. If you're using a virtual environment as we are, pip will install packages into that environment. If no virtual environment is active, it will install packages into your global Python environment.\n",
    "\n",
    "%pip is a special command used in Jupyter notebooks. You use it within a Jupyter notebook cell to ensure that the package is installed in the same Python environment the notebook is currently using. This is particularly useful because sometimes the environment a Jupyter notebook runs in isn't the same as your default Python environment, especially if you're using virtual environments."
   ]
  },
  {
   "cell_type": "code",
   "execution_count": 10,
   "metadata": {},
   "outputs": [
    {
     "name": "stderr",
     "output_type": "stream",
     "text": [
      "/var/folders/sp/6y_6pk4x2lscbcf2_4ybm7wr0000gn/T/ipykernel_7991/3331453663.py:3: DeprecationWarning: \n",
      "Pyarrow will become a required dependency of pandas in the next major release of pandas (pandas 3.0),\n",
      "(to allow more performant data types, such as the Arrow string type, and better interoperability with other libraries)\n",
      "but was not found to be installed on your system.\n",
      "If this would cause problems for you,\n",
      "please provide us feedback at https://github.com/pandas-dev/pandas/issues/54466\n",
      "        \n",
      "  import pandas as pd\n"
     ]
    }
   ],
   "source": [
    "# Once it is in the virutal enviornment, we have to import it to this notebook \n",
    "\n",
    "import pandas as pd \n"
   ]
  },
  {
   "cell_type": "markdown",
   "metadata": {},
   "source": [
    "#### Finding documentation\n",
    "\n",
    "- **Online Documentation:** The most comprehensive source is the official Pandas documentation. It includes a detailed user guide, API reference, and examples.\n",
    "\n",
    "- **Using help() Function:**\n",
    "\n",
    "  - For example, for general Pandas documentation: help(pd)\n",
    "  - For documentation of a specific function (e.g., read_csv): help(pd.read_csv)\n",
    "\n",
    "- **Accessing Docstrings:**\n",
    "\n",
    "  - In an interactive Python session (like a Jupyter notebook), you can use:\n",
    "pd.read_csv? to view the docstring of read_csv.\n",
    "pd? to view the docstring for Pandas.\n",
    "IDE Features: If you're using an IDE, hovering over a function name often shows a tooltip with documentation. Also, pressing Shift + Tab in Jupyter notebooks shows the docstring for the function.\n"
   ]
  },
  {
   "cell_type": "code",
   "execution_count": null,
   "metadata": {},
   "outputs": [],
   "source": [
    "help(pd)"
   ]
  },
  {
   "cell_type": "markdown",
   "metadata": {},
   "source": [
    "For specific functions:, using the example of `read_csv`:\n",
    " \n",
    " - help(pd.read_csv)\n",
    "\n",
    " This is a standard Python function that invokes the built-in help system. When you use help(pd.read_csv), it displays the documentation for the read_csv function in a more detailed, text-based format. This command is versatile and can be used in any Python environment, including a standard Python shell, scripts, and Jupyter notebooks. The output is typically displayed in the same area where the command was executed.\n",
    "\n",
    "- pd.read_csv?\n",
    "\n",
    "  This syntax is specific to Jupyter notebooks. \n",
    "  When you use pd.read_csv? in a Jupyter notebook, it displays the documentation in a separate pane or window at the bottom of the notebook interface. This pane can be resized, scrolled, or closed. The documentation displayed is generally more concise and is formatted for quick readability, focusing on the most essential aspects of the function.\n",
    "  This method is more interactive and user-friendly, especially in a Jupyter notebook environment, but it is not available in standard Python shells or scripts.\n",
    "\n"
   ]
  },
  {
   "cell_type": "code",
   "execution_count": null,
   "metadata": {},
   "outputs": [],
   "source": [
    "# Uncomment the line below to test. \n",
    "\n",
    "# help(pd.read_csv)\n",
    "\n",
    " \n",
    "# Uncomment the line below to test. \n",
    "\n",
    "# pd.read_csv?\n"
   ]
  },
  {
   "cell_type": "markdown",
   "metadata": {},
   "source": [
    "Now, let's use `read_csv` to read in a new dataset, \"colleges.csv.\" This data file is available on Github.[https://github.com/kristinporter/DSC201_602/blob/main/data/colleges.csv].\n",
    "\n",
    "A few notes about calling functions: In the example below...\n",
    "\n",
    "- pandas (aliased as pd) is the package.\n",
    "- read_csv is the function being called.\n",
    "- we include the path and file name within ()"
   ]
  },
  {
   "cell_type": "code",
   "execution_count": 20,
   "metadata": {},
   "outputs": [
    {
     "data": {
      "text/html": [
       "<div>\n",
       "<style scoped>\n",
       "    .dataframe tbody tr th:only-of-type {\n",
       "        vertical-align: middle;\n",
       "    }\n",
       "\n",
       "    .dataframe tbody tr th {\n",
       "        vertical-align: top;\n",
       "    }\n",
       "\n",
       "    .dataframe thead th {\n",
       "        text-align: right;\n",
       "    }\n",
       "</style>\n",
       "<table border=\"1\" class=\"dataframe\">\n",
       "  <thead>\n",
       "    <tr style=\"text-align: right;\">\n",
       "      <th></th>\n",
       "      <th>OPEID</th>\n",
       "      <th>median_debt</th>\n",
       "      <th>default_rate</th>\n",
       "      <th>admit_rate</th>\n",
       "      <th>SAT_avg</th>\n",
       "      <th>enrollment</th>\n",
       "      <th>net_price</th>\n",
       "      <th>avg_cost</th>\n",
       "      <th>net_tuition</th>\n",
       "      <th>ed_spending_per_student</th>\n",
       "      <th>avg_faculty_salary</th>\n",
       "      <th>pct_PELL</th>\n",
       "      <th>pct_fed_loan</th>\n",
       "      <th>grad_rate</th>\n",
       "      <th>pct_firstgen</th>\n",
       "      <th>med_fam_income</th>\n",
       "      <th>med_alum_earnings</th>\n",
       "    </tr>\n",
       "  </thead>\n",
       "  <tbody>\n",
       "    <tr>\n",
       "      <th>count</th>\n",
       "      <td>4.435000e+03</td>\n",
       "      <td>4435.000000</td>\n",
       "      <td>4435.000000</td>\n",
       "      <td>1704.000000</td>\n",
       "      <td>1105.000000</td>\n",
       "      <td>4435.000000</td>\n",
       "      <td>4435.000000</td>\n",
       "      <td>4435.000000</td>\n",
       "      <td>4435.000000</td>\n",
       "      <td>4435.000000</td>\n",
       "      <td>3077.000000</td>\n",
       "      <td>4435.000000</td>\n",
       "      <td>4435.000000</td>\n",
       "      <td>4435.000000</td>\n",
       "      <td>4088.000000</td>\n",
       "      <td>4399.000000</td>\n",
       "      <td>3912.000000</td>\n",
       "    </tr>\n",
       "    <tr>\n",
       "      <th>mean</th>\n",
       "      <td>1.492464e+06</td>\n",
       "      <td>11.195790</td>\n",
       "      <td>9.060090</td>\n",
       "      <td>70.812576</td>\n",
       "      <td>1139.842534</td>\n",
       "      <td>3110.519053</td>\n",
       "      <td>17.371474</td>\n",
       "      <td>27.102880</td>\n",
       "      <td>10.836639</td>\n",
       "      <td>7.760832</td>\n",
       "      <td>7.266518</td>\n",
       "      <td>45.555540</td>\n",
       "      <td>49.069461</td>\n",
       "      <td>54.945651</td>\n",
       "      <td>43.357756</td>\n",
       "      <td>31.791930</td>\n",
       "      <td>40.007157</td>\n",
       "    </tr>\n",
       "    <tr>\n",
       "      <th>std</th>\n",
       "      <td>1.976276e+06</td>\n",
       "      <td>5.319178</td>\n",
       "      <td>6.144554</td>\n",
       "      <td>20.567925</td>\n",
       "      <td>131.630792</td>\n",
       "      <td>6429.445325</td>\n",
       "      <td>8.638514</td>\n",
       "      <td>14.988075</td>\n",
       "      <td>7.506410</td>\n",
       "      <td>6.881391</td>\n",
       "      <td>2.528365</td>\n",
       "      <td>20.309775</td>\n",
       "      <td>24.542281</td>\n",
       "      <td>22.051351</td>\n",
       "      <td>12.931312</td>\n",
       "      <td>20.811117</td>\n",
       "      <td>14.486256</td>\n",
       "    </tr>\n",
       "    <tr>\n",
       "      <th>min</th>\n",
       "      <td>1.002000e+05</td>\n",
       "      <td>1.932000</td>\n",
       "      <td>0.000000</td>\n",
       "      <td>2.440000</td>\n",
       "      <td>760.000000</td>\n",
       "      <td>0.000000</td>\n",
       "      <td>-0.407000</td>\n",
       "      <td>4.760000</td>\n",
       "      <td>0.000000</td>\n",
       "      <td>0.000000</td>\n",
       "      <td>0.897000</td>\n",
       "      <td>0.000000</td>\n",
       "      <td>0.000000</td>\n",
       "      <td>0.000000</td>\n",
       "      <td>8.866995</td>\n",
       "      <td>0.000000</td>\n",
       "      <td>10.939000</td>\n",
       "    </tr>\n",
       "    <tr>\n",
       "      <th>25%</th>\n",
       "      <td>2.822000e+05</td>\n",
       "      <td>6.863000</td>\n",
       "      <td>4.400000</td>\n",
       "      <td>59.787500</td>\n",
       "      <td>1050.000000</td>\n",
       "      <td>171.000000</td>\n",
       "      <td>10.849000</td>\n",
       "      <td>16.452500</td>\n",
       "      <td>5.439500</td>\n",
       "      <td>4.126000</td>\n",
       "      <td>5.610000</td>\n",
       "      <td>29.830000</td>\n",
       "      <td>30.925000</td>\n",
       "      <td>37.310000</td>\n",
       "      <td>35.006281</td>\n",
       "      <td>17.827750</td>\n",
       "      <td>29.720250</td>\n",
       "    </tr>\n",
       "    <tr>\n",
       "      <th>50%</th>\n",
       "      <td>7.669000e+05</td>\n",
       "      <td>9.500000</td>\n",
       "      <td>8.200000</td>\n",
       "      <td>74.680000</td>\n",
       "      <td>1113.000000</td>\n",
       "      <td>868.000000</td>\n",
       "      <td>16.757000</td>\n",
       "      <td>22.945000</td>\n",
       "      <td>9.912000</td>\n",
       "      <td>6.352000</td>\n",
       "      <td>6.958000</td>\n",
       "      <td>42.500000</td>\n",
       "      <td>52.540000</td>\n",
       "      <td>56.400000</td>\n",
       "      <td>45.102178</td>\n",
       "      <td>24.670000</td>\n",
       "      <td>38.056000</td>\n",
       "    </tr>\n",
       "    <tr>\n",
       "      <th>75%</th>\n",
       "      <td>2.362002e+06</td>\n",
       "      <td>15.000000</td>\n",
       "      <td>12.300000</td>\n",
       "      <td>86.115000</td>\n",
       "      <td>1205.000000</td>\n",
       "      <td>2953.000000</td>\n",
       "      <td>22.470500</td>\n",
       "      <td>32.032500</td>\n",
       "      <td>14.218000</td>\n",
       "      <td>9.342000</td>\n",
       "      <td>8.573000</td>\n",
       "      <td>60.380000</td>\n",
       "      <td>67.680000</td>\n",
       "      <td>71.915000</td>\n",
       "      <td>52.599727</td>\n",
       "      <td>39.516500</td>\n",
       "      <td>47.381250</td>\n",
       "    </tr>\n",
       "    <tr>\n",
       "      <th>max</th>\n",
       "      <td>7.209887e+07</td>\n",
       "      <td>33.470000</td>\n",
       "      <td>57.100000</td>\n",
       "      <td>100.000000</td>\n",
       "      <td>1566.000000</td>\n",
       "      <td>109233.000000</td>\n",
       "      <td>112.050000</td>\n",
       "      <td>120.377000</td>\n",
       "      <td>66.442000</td>\n",
       "      <td>139.766000</td>\n",
       "      <td>21.143000</td>\n",
       "      <td>100.000000</td>\n",
       "      <td>100.000000</td>\n",
       "      <td>100.000000</td>\n",
       "      <td>85.906040</td>\n",
       "      <td>179.864000</td>\n",
       "      <td>132.969000</td>\n",
       "    </tr>\n",
       "  </tbody>\n",
       "</table>\n",
       "</div>"
      ],
      "text/plain": [
       "              OPEID  median_debt  default_rate   admit_rate      SAT_avg  \\\n",
       "count  4.435000e+03  4435.000000   4435.000000  1704.000000  1105.000000   \n",
       "mean   1.492464e+06    11.195790      9.060090    70.812576  1139.842534   \n",
       "std    1.976276e+06     5.319178      6.144554    20.567925   131.630792   \n",
       "min    1.002000e+05     1.932000      0.000000     2.440000   760.000000   \n",
       "25%    2.822000e+05     6.863000      4.400000    59.787500  1050.000000   \n",
       "50%    7.669000e+05     9.500000      8.200000    74.680000  1113.000000   \n",
       "75%    2.362002e+06    15.000000     12.300000    86.115000  1205.000000   \n",
       "max    7.209887e+07    33.470000     57.100000   100.000000  1566.000000   \n",
       "\n",
       "          enrollment    net_price     avg_cost  net_tuition  \\\n",
       "count    4435.000000  4435.000000  4435.000000  4435.000000   \n",
       "mean     3110.519053    17.371474    27.102880    10.836639   \n",
       "std      6429.445325     8.638514    14.988075     7.506410   \n",
       "min         0.000000    -0.407000     4.760000     0.000000   \n",
       "25%       171.000000    10.849000    16.452500     5.439500   \n",
       "50%       868.000000    16.757000    22.945000     9.912000   \n",
       "75%      2953.000000    22.470500    32.032500    14.218000   \n",
       "max    109233.000000   112.050000   120.377000    66.442000   \n",
       "\n",
       "       ed_spending_per_student  avg_faculty_salary     pct_PELL  pct_fed_loan  \\\n",
       "count              4435.000000         3077.000000  4435.000000   4435.000000   \n",
       "mean                  7.760832            7.266518    45.555540     49.069461   \n",
       "std                   6.881391            2.528365    20.309775     24.542281   \n",
       "min                   0.000000            0.897000     0.000000      0.000000   \n",
       "25%                   4.126000            5.610000    29.830000     30.925000   \n",
       "50%                   6.352000            6.958000    42.500000     52.540000   \n",
       "75%                   9.342000            8.573000    60.380000     67.680000   \n",
       "max                 139.766000           21.143000   100.000000    100.000000   \n",
       "\n",
       "         grad_rate  pct_firstgen  med_fam_income  med_alum_earnings  \n",
       "count  4435.000000   4088.000000     4399.000000        3912.000000  \n",
       "mean     54.945651     43.357756       31.791930          40.007157  \n",
       "std      22.051351     12.931312       20.811117          14.486256  \n",
       "min       0.000000      8.866995        0.000000          10.939000  \n",
       "25%      37.310000     35.006281       17.827750          29.720250  \n",
       "50%      56.400000     45.102178       24.670000          38.056000  \n",
       "75%      71.915000     52.599727       39.516500          47.381250  \n",
       "max     100.000000     85.906040      179.864000         132.969000  "
      ]
     },
     "execution_count": 20,
     "metadata": {},
     "output_type": "execute_result"
    }
   ],
   "source": [
    "# Read in the file \n",
    "df = pd.read_csv('data/colleges.csv')\n",
    "\n",
    "# To get overall distributions of variables in your dataframe \n",
    "df.describe()"
   ]
  },
  {
   "cell_type": "code",
   "execution_count": 23,
   "metadata": {},
   "outputs": [
    {
     "data": {
      "text/plain": [
       "Index(['OPEID', 'name', 'city', 'state', 'region', 'median_debt',\n",
       "       'default_rate', 'highest_degree', 'ownership', 'locale', 'hbcu',\n",
       "       'admit_rate', 'SAT_avg', 'online_only', 'enrollment', 'net_price',\n",
       "       'avg_cost', 'net_tuition', 'ed_spending_per_student',\n",
       "       'avg_faculty_salary', 'pct_PELL', 'pct_fed_loan', 'grad_rate',\n",
       "       'pct_firstgen', 'med_fam_income', 'med_alum_earnings'],\n",
       "      dtype='object')"
      ]
     },
     "execution_count": 23,
     "metadata": {},
     "output_type": "execute_result"
    }
   ],
   "source": [
    "# To get the column names of the dataframe \n",
    "\n",
    "df.columns"
   ]
  },
  {
   "cell_type": "code",
   "execution_count": 24,
   "metadata": {},
   "outputs": [
    {
     "data": {
      "text/plain": [
       "(4435, 26)"
      ]
     },
     "execution_count": 24,
     "metadata": {},
     "output_type": "execute_result"
    }
   ],
   "source": [
    "# To get the dimension of a dataframe \n",
    "\n",
    "df.shape"
   ]
  },
  {
   "cell_type": "code",
   "execution_count": 25,
   "metadata": {},
   "outputs": [
    {
     "data": {
      "text/plain": [
       "0        959.0\n",
       "1       1245.0\n",
       "2          NaN\n",
       "3       1300.0\n",
       "4        938.0\n",
       "         ...  \n",
       "4430       NaN\n",
       "4431       NaN\n",
       "4432       NaN\n",
       "4433       NaN\n",
       "4434       NaN\n",
       "Name: SAT_avg, Length: 4435, dtype: float64"
      ]
     },
     "execution_count": 25,
     "metadata": {},
     "output_type": "execute_result"
    }
   ],
   "source": [
    "# To get a particular column of dataframe \n",
    "\n",
    "df['SAT_avg']"
   ]
  },
  {
   "cell_type": "code",
   "execution_count": 26,
   "metadata": {},
   "outputs": [
    {
     "name": "stdout",
     "output_type": "stream",
     "text": [
      "760.0\n",
      "1566.0\n"
     ]
    }
   ],
   "source": [
    "# Then you can use the same math functions on that column like in R \n",
    "\n",
    "print(min(df['SAT_avg']))\n",
    "print(max(df['SAT_avg']))"
   ]
  }
 ],
 "metadata": {
  "kernelspec": {
   "display_name": "IntroRPython",
   "language": "python",
   "name": "python3"
  },
  "language_info": {
   "codemirror_mode": {
    "name": "ipython",
    "version": 3
   },
   "file_extension": ".py",
   "mimetype": "text/x-python",
   "name": "python",
   "nbconvert_exporter": "python",
   "pygments_lexer": "ipython3",
   "version": "3.12.1"
  },
  "orig_nbformat": 4
 },
 "nbformat": 4,
 "nbformat_minor": 2
}
