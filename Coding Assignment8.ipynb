{
 "cells": [
  {
   "cell_type": "markdown",
   "metadata": {},
   "source": [
    "# Data Viz Iteration \n",
    "\n",
    "**Overview:** For this assignment, you gain more practice with data visualizaiton. You may work in either R or Python.  \n",
    "\n",
    "**Directions:** Create two data visualizations. You have the choice of either improving a visualization you have already submitted in a homework or creating new visualizations. You are encouraged to use the ChatpGPT recipes from our Class 10 slide deck.\n",
    "\n",
    "For each data visualization, show your code and plot.\n",
    "\n",
    "Also, in Markdown, please write a short paragraph answering the following questions (10 points for each visualization): \n",
    "\n",
    "1. Did you create a new visualization or improve an existing visualization?\n",
    "\n",
    "2. What elements from the \"data viz checklist\" (see decks from Classes 9 and 10) does your plot have? \n",
    "\n",
    "3. Did you use ChatGPT to make or improve your plot? Comment on the success or challenges of using it.\n",
    "\n",
    "4. What have you learned from this process? \n",
    "\n",
    "5. How do you interpret your data visualization? What story does it tell? \n",
    "\n",
    "\n",
    "**Due:** November 11, 11:45 a.m."
   ]
  }
 ],
 "metadata": {
  "kernelspec": {
   "display_name": ".venv",
   "language": "python",
   "name": "python3"
  },
  "language_info": {
   "name": "python",
   "version": "3.12.1"
  }
 },
 "nbformat": 4,
 "nbformat_minor": 2
}
