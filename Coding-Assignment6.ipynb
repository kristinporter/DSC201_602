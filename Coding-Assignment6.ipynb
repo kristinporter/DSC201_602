{
 "cells": [
  {
   "cell_type": "markdown",
   "metadata": {},
   "source": [
    "# Practice with Jupyter Notebooks and Basic Python Commands\n",
    "\n",
    "**Overview:** For this assignment, you will practice working with Jupyter notebooks, navigate documentation for Python packages and functions, and read in the data you have selected for your class project. \n",
    "\n",
    "**Directions:** Please work through the notebook, answering all the questions. \n",
    "When you are done, export to a PDF file. Upload it to Gradescope using the following naming convention for your file: \n",
    "\n",
    "DSC201_602_SP24_codingassignment4_unityID\n",
    "\n",
    "(For example, DSC201_602_SP24_codingassignment4_keporte2)\n",
    "\n",
    "As a reminder, you can export to a html file within VS Code by clicking on the three dots (\"...\") to the right of \"Outline\" in the panel at the top of your screen. Then print your html to a PDF. If you have trouble exporting in VS Code, please upload your file to Jupyter Hub (https://jhub.cos.ncsu.edu/) by clicking on the up error over the horizontal line (2 icons to the right of the blue plus button). Then you can export to a PDF by going to \"File\" then \"Save and Export Notebook As.\" \n",
    "\n",
    "**Points:** 25 points (plus 3 extra credit points)\n",
    "\n",
    "**Due:** February 14 at 11:59 PM "
   ]
  },
  {
   "cell_type": "markdown",
   "metadata": {},
   "source": [
    "## The `NumPy` package\n",
    "\n",
    "`NumPy` is a popular Python package used primarily for numerical calculations.  It is a powerful tool that handles large sets of numbers and mathematical operations efficiently. It's widely used in data science to process and analyze data. `NumPy`'s ability to perform complex calculations quickly makes it a foundational tool for other data science libraries. \n",
    "\n",
    "Uncomment and run the command below to install `NumPy`. Note you will need to retstart your kernel after you install it. In VS Code and on Jupyter Hub, there is a restart button in the top panel. You can comment out the installation command after you have successfully installed the package."
   ]
  },
  {
   "cell_type": "code",
   "execution_count": 9,
   "metadata": {},
   "outputs": [],
   "source": [
    "#%pip install numpy"
   ]
  },
  {
   "cell_type": "markdown",
   "metadata": {},
   "source": [
    "Next, we import `numpy`. We shorten the imported name to np for better readability of code using NumPy. This is a widely adopted convention that makes your code more readable for everyone working on it. \n",
    "\n",
    "Then, `help(np)` brings up documentation. Go to the listed link of numpy.org and after opening it, click on \"Documentation.\" Find the answers to the following questions: \n",
    "\n",
    "**(1) Similar to how R's `dplyr` has somewhat different versions of the data structures in base R, Python's `numpy` has somewhat different versions of the data structures in standard Python. For example, an \"array\" is a central data structure in `numpy` which can be compared to a \"list\" in standard Python. What is at least one difference between a \"list\" in `numpy` and an \"array\" in standard Python? [Enter your answer below, 1 POINT]**\n",
    "\n",
    "\n",
    "\n",
    "**(2) In `numpy`, what is the relationship between a vector and array? What is relationship between a matrix and array? [Enter your answer below, 1 POINT]**\n",
    "\n",
    "\n"
   ]
  },
  {
   "cell_type": "code",
   "execution_count": 10,
   "metadata": {},
   "outputs": [],
   "source": [
    "import numpy as np\n",
    "\n",
    "# uncomment to test, but then recomment so you don't have this long output in your final document\n",
    "# help(np)"
   ]
  },
  {
   "cell_type": "markdown",
   "metadata": {},
   "source": [
    "**(3) In the following code chunk, write a line a code to accomplish each task described in the comments. Refer to documentation at numpy.org to guide you; it provides lots of examples that you can copy and modify. [6 POINTS TOTAL, 1 POINT EACH]**"
   ]
  },
  {
   "cell_type": "code",
   "execution_count": 11,
   "metadata": {},
   "outputs": [],
   "source": [
    "# TODO: Create a one-dimensional NumPy array of numbers from 1 to 10.\n",
    "\n",
    "# TODO: Print the first element of the array you just created.\n",
    "\n",
    "# TODO: Find the length of the array.\n",
    "\n",
    "# TODO: Find and print the mean of your array\n",
    "\n",
    "# TODO: Reshape your array into a matrix with 2 columns and 5 rows\n",
    "# Assign this to a new object and print it (2 lines of code)\n",
    "\n",
    "# TODO: Find and print the sum of the first column of your matrix\n"
   ]
  },
  {
   "cell_type": "markdown",
   "metadata": {},
   "source": [
    "**(4) A valuable way to expand your coding skills is to run example code - from documentation, tutorials, other coders - and see what it accomplishes. Using the documentation at numpy.org, create a code chunk and test out three NumPy commands that either operate on the array or matix that you created above. After running the commands, use comments to explain what the command does and anything you think is important to remember about how the command is used, or something you do not understand. (3 POINTS FOR COMPLETION)**"
   ]
  },
  {
   "cell_type": "code",
   "execution_count": null,
   "metadata": {},
   "outputs": [],
   "source": [
    "\n",
    "\n"
   ]
  },
  {
   "cell_type": "markdown",
   "metadata": {},
   "source": [
    "## Getting familiar with `pandas`\n"
   ]
  },
  {
   "cell_type": "markdown",
   "metadata": {},
   "source": [
    "While NumPy is valuable for computations on arrays and matrices, we will work more with Pandas (which is built on top of NumPy), which is valuable for more complex data manipulation tasks on structured data. You should have already installed pandas when running Python-Notebook1. If not, uncomment and run the first line in the chunk below. In either case, run the import command below to load the Pandas library into your environment. "
   ]
  },
  {
   "cell_type": "code",
   "execution_count": 12,
   "metadata": {},
   "outputs": [],
   "source": [
    "# %pip install pandas\n",
    "\n",
    "# Import the pandas library and assign the alias \"pd\"\n",
    "import pandas as pd \n"
   ]
  },
  {
   "cell_type": "markdown",
   "metadata": {},
   "source": [
    "#### Reviewing documentation\n",
    "\n",
    "For `pandas` documentation, check out: https://pandas.pydata.org/docs/ (which is much more user friendly than what you get with help(pd).) Review the \"package overview\" and answer the following questions:\n",
    "\n",
    "**(5) What are at least two things you can do with the `pandas` package that accomplish similar (or identical) tasks you learned with `dplyr` in R? [1 POINT]**\n",
    "\n",
    "\n",
    "\n",
    "**(6) What are the two main data structures in `pandas` and what are the parallel data structures in base R or `dplyr`? [1 POINT]**\n",
    "\n",
    "\n"
   ]
  },
  {
   "cell_type": "markdown",
   "metadata": {},
   "source": [
    "**(7) Within this Pandas website, go to https://pandas.pydata.org/docs/getting_started/comparison/comparison_with_r.html#quick-reference. Use this \"quick reference\" to complete the following. [4 POINTS TOTAL, 1 POINT EACH]**\n",
    "\n",
    "Note: The functions are preceded by `pandas` and a \".\" or more frequently and preferably, the alias you used when you imported it (pd). So \"pd.functionname.\"\n"
   ]
  },
  {
   "cell_type": "code",
   "execution_count": 13,
   "metadata": {},
   "outputs": [
    {
     "name": "stdout",
     "output_type": "stream",
     "text": [
      "   ColA  ColB   ColC\n",
      "0     1   0.1   True\n",
      "1     2   0.2  False\n",
      "2     3   0.3   True\n"
     ]
    }
   ],
   "source": [
    "# First, I will create a toy data frame for you. \n",
    "df = pd.DataFrame({\n",
    "    'ColA': [1, 2, 3],\n",
    "    'ColB': [0.1, 0.2, 0.3],\n",
    "    'ColC': [True, False, True]\n",
    "})\n",
    "print(df)\n",
    "\n",
    "# TODO: Find the dimensions of the data frame df\n",
    "\n",
    "# TODO: Summarize all columns in the data frame df (Hint: for this one the () will be empty and you need to include \"print()\")\n",
    "\n",
    "# TODO: Create a reduced data frame (a new object) that is just the first two columns\n",
    "\n",
    "# TODO: Run another command of your choice and add a comment describing what it does. Be sure to print the results. \n"
   ]
  },
  {
   "cell_type": "markdown",
   "metadata": {},
   "source": [
    "For specific functions within a package, it can be quick and helpfl to pull up documentation from inside your Jupyter notebook. Using the example of `read_csv`:\n",
    " \n",
    " - help(pd.read_csv)\n",
    "\n",
    " This is a standard Python function that invokes the built-in help system. When you use help(pd.read_csv), it displays the documentation for the read_csv function in a more detailed, text-based format. This command is versatile and can be used in any Python environment, including a standard Python shell, scripts, and Jupyter notebooks. The output is typically displayed in the same area where the command was executed.\n",
    "\n",
    "- pd.read_csv?\n",
    "\n",
    "  This syntax is specific to Jupyter notebooks. \n",
    "  When you use pd.read_csv? in a Jupyter notebook, it displays the documentation in a separate pane or window at the bottom of the notebook interface. This pane can be resized, scrolled, or closed. The documentation displayed is generally more concise and is formatted for quick readability, focusing on the most essential aspects of the function.\n",
    "  This method is more interactive and user-friendly, especially in a Jupyter notebook environment, but it is not available in standard Python shells or scripts.\n",
    "\n",
    "**(8) Give these a try below, and provide 2 observations for each: [Enter responses below within this markdown chunk, 4 POINTS]**"
   ]
  },
  {
   "cell_type": "code",
   "execution_count": 14,
   "metadata": {},
   "outputs": [],
   "source": [
    "# TODO: Uncomment the line below to test. Recomment after testing. \n",
    "\n",
    "# help(pd.read_csv)\n",
    "\n",
    " \n",
    "# TODO: Uncomment the line below to test. Recomment after testing. \n",
    "\n",
    "#pd.read_csv?\n"
   ]
  },
  {
   "cell_type": "markdown",
   "metadata": {},
   "source": [
    "**(9) Now, let's use `read_csv` to read in the datasests you have selected for your project. I am assuming you have .csv files. If not, then write a .csv file in R so that you can read it in here. After reading in your file, carry out the tasks described in the comments. [4 POINTS TOTAL, 1 POINT EACH]**"
   ]
  },
  {
   "cell_type": "code",
   "execution_count": 15,
   "metadata": {},
   "outputs": [],
   "source": [
    "# Read in the file by *editing* the example below\n",
    "projectData = pd.read_csv('data/colleges.csv')\n",
    "\n",
    "# TODO: Display the dimensions of your data frame projectData\n",
    "\n",
    "# TODO: Summarize (describe) the columns in projectData\n",
    "\n",
    "# TODO: Display the first 10 rows of ProjectData and at the same time, 5 columns of your choice\n"
   ]
  },
  {
   "cell_type": "markdown",
   "metadata": {},
   "source": [
    "**Extra Credit:**\n",
    "\n",
    "**(1) Create a new object to hold a modified version of `projectData`. The modified version should (a) rename one variable, (b) drop one variable and (c) create one new variable that is a computation based on another variable in your data (e.g., it sums to variables together or it multiplies a variable by a number, etc. ). [1 POINT]**\n",
    "\n",
    "**(2) Describe what you would do to check that you modifications worked. How would you make it easy to do the checks (rather than viewing lots of information you don't need). [1 POINT]**\n",
    "\n",
    "**(3) Write code to implement your check [1 POINT]**\n"
   ]
  },
  {
   "cell_type": "code",
   "execution_count": 16,
   "metadata": {},
   "outputs": [],
   "source": [
    "projectData_mod = projectData.copy()\n",
    "\n"
   ]
  }
 ],
 "metadata": {
  "kernelspec": {
   "display_name": "IntroRPython",
   "language": "python",
   "name": "python3"
  },
  "language_info": {
   "codemirror_mode": {
    "name": "ipython",
    "version": 3
   },
   "file_extension": ".py",
   "mimetype": "text/x-python",
   "name": "python",
   "nbconvert_exporter": "python",
   "pygments_lexer": "ipython3",
   "version": "3.12.1"
  },
  "orig_nbformat": 4
 },
 "nbformat": 4,
 "nbformat_minor": 2
}
