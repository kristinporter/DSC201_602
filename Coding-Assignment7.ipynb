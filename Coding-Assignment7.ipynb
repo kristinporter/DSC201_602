{
 "cells": [
  {
   "cell_type": "markdown",
   "metadata": {},
   "source": [
    "# Practice with Data Viz in Python\n",
    "\n",
    "**Overview:** For this assignment, you will practice working creating data visualizations with Python. \n",
    "\n",
    "**Directions:** Using one of the data files of your choice, create **two** data visualizations. At least one of the data visualizations should include at least two variables in your data. You may use any of the types of data visualizations we reviewed in class on 2/28, making modifications for a different analysis (different variables). \n",
    "\n",
    "Data sets to choose from:\n",
    "- [SleepStudy.csv](https://www.rdocumentation.org/packages/Lock5withR/versions/1.2.2/topics/SleepStudy) (used in class previously)\n",
    "- colleges.csv (used in class previously)\n",
    "- [billionaires.csv](https://corgis-edu.github.io/corgis/csv/billionaires/) (new - available on github)\n",
    "- [parking_citations.csv](https://corgis-edu.github.io/corgis/csv/parking_citations/) (new - availabe on githib)\n",
    "\n",
    "For those who find that getting acquainted with new data is overwhelming, use one of the datasets we have reviewed in previous classes. For those of you looking for more challenge, try one of the new datasets. I will give 5 points extra credit for using with one of the new datasets. \n",
    "\n",
    "Read in the data and load the required libraries. [2 POINTS]\n",
    "\n",
    "For each data visualization:\n",
    "(1) Make your plot easy to understand. [3 POINTS FOR EACH DATA VIZ]\n",
    "- Provide a good title\n",
    "- Label your axes\n",
    "- Don't rely on variable names if they are not sufficiently clear.\n",
    "- For 1 extra credit point, modify one element beyond the default (size, color, font, placement, etc.)\n",
    "\n",
    "(2) Describe any data moves or preparation steps you needed to do first. [3 POINTS FOR EACH DATA VIZ]\n",
    "- Describe your data moves or prep broadly in markdown.\n",
    "- Use comment with code chunks to explain your steps. \n",
    "- If no data moves or prep are needed, explain why in markdown. \n",
    "\n",
    "(3) Describe the results. [3 POINTS FOR EACH DATA VIZ]\n",
    "- How do you interpret the plot? What do the data findings tell you? \n",
    "- Why is this particular plot choice helpful for what you want to learn? \n",
    "- What are possible limitations? \n",
    "\n",
    "Run all chunks after finalizing and covert to a PDF following the naming convention:\n",
    "\n",
    "DSC201_602_SP24_codingassignment7_unityID\n",
    "\n",
    "(For example, DSC201_602_SP24_codingassignment7_keporte2)\n",
    "\n",
    "As a reminder, you can export to a html file within VS Code by clicking on the three dots (\"...\") to the right of \"Outline\" in the panel at the top of your screen. Then print your html to a PDF. If you have trouble exporting in VS Code, please upload your file to Jupyter Hub (https://jhub.cos.ncsu.edu/) by clicking on the up error over the horizontal line (2 icons to the right of the blue plus button). Then you can export to a PDF by going to \"File\" then \"Save and Export Notebook As.\" \n",
    "\n",
    "**Points:** 20 points (plus 7 possible extra credit points)\n",
    "\n",
    "**Due:** March 6 at 11:59 PM "
   ]
  }
 ],
 "metadata": {
  "language_info": {
   "name": "python"
  }
 },
 "nbformat": 4,
 "nbformat_minor": 2
}
